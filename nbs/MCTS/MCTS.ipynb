{
 "cells": [
  {
   "cell_type": "markdown",
   "metadata": {},
   "source": [
    "# Monte Carlo Tree Search\n",
    "> This is the implementation of the MCTS algorithm."
   ]
  },
  {
   "cell_type": "markdown",
   "metadata": {},
   "source": [
    "![](https://production-media.paperswithcode.com/methods/Screen_Shot_2020-06-29_at_9.36.32_PM_Vc3hZmF.png)"
   ]
  },
  {
   "cell_type": "code",
   "execution_count": 7,
   "metadata": {},
   "outputs": [],
   "source": [
    "#|default_exp MCTS"
   ]
  },
  {
   "cell_type": "code",
   "execution_count": 8,
   "metadata": {},
   "outputs": [],
   "source": [
    "#| hide\n",
    "from nbdev.showdoc import *"
   ]
  },
  {
   "cell_type": "code",
   "execution_count": 9,
   "metadata": {},
   "outputs": [],
   "source": [
    "#| export\n",
    "from alphaUltimateTTT.Node import Node\n",
    "import numpy as np"
   ]
  },
  {
   "cell_type": "code",
   "execution_count": 12,
   "metadata": {},
   "outputs": [],
   "source": [
    "#| export\n",
    "#Copyright 2024 Gerardo Guerrero\n",
    "\n",
    "class MCTS:\n",
    "    def __init__(self, game, args):\n",
    "        self.game = game\n",
    "        self.args = args\n",
    "\n",
    "    def search(self, state):\n",
    "        root = Node(self.game, self.args, state)\n",
    "\n",
    "        for search in range(self.args['num_simulations']):\n",
    "            node = root\n",
    "\n",
    "            #Walkdown the tree until a leaf node is reached\n",
    "            # Select\n",
    "            # the most promising node\n",
    "            while node.is_fully_expanded():\n",
    "                node = node.select()\n",
    "\n",
    "            # if a leaf node is reached\n",
    "            # Expand\n",
    "            if not node.is_terminal():\n",
    "                node = node.expand()\n",
    "\n",
    "            value = node.simulate(self.game.next_symbol)\n",
    "            # Backpropagate the value\n",
    "            node.backpropagate(value)\n",
    "\n",
    "        action_probs = np.zeros(81)\n",
    "        for child in root.children:\n",
    "            action_probs[child.action] = child.visits\n",
    "        action_probs /= np.sum(action_probs)\n",
    "        return action_probs\n"
   ]
  }
 ],
 "metadata": {
  "kernelspec": {
   "display_name": ".venv",
   "language": "python",
   "name": "python3"
  },
  "language_info": {
   "codemirror_mode": {
    "name": "ipython",
    "version": 3
   },
   "file_extension": ".py",
   "mimetype": "text/x-python",
   "name": "python",
   "nbconvert_exporter": "python",
   "pygments_lexer": "ipython3",
   "version": "3.10.7"
  }
 },
 "nbformat": 4,
 "nbformat_minor": 2
}
