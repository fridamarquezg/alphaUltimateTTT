{
 "cells": [
  {
   "cell_type": "markdown",
   "metadata": {},
   "source": [
    "# Node\n",
    "> This is the implementation of the Node class."
   ]
  },
  {
   "cell_type": "code",
   "execution_count": 1,
   "metadata": {},
   "outputs": [],
   "source": [
    "#|default_exp Node"
   ]
  },
  {
   "cell_type": "code",
   "execution_count": 6,
   "metadata": {},
   "outputs": [],
   "source": [
    "#| hide\n",
    "from nbdev.showdoc import *"
   ]
  },
  {
   "cell_type": "code",
   "execution_count": 9,
   "metadata": {},
   "outputs": [],
   "source": [
    "#| export\n",
    "\n",
    "import numpy as np\n",
    "from alphaUltimateTTT.UltimateTicTacToe import UltimateTicTacToe as uttt\n",
    "from alphaUltimateTTT.Move import Move\n",
    "from alphaUltimateTTT.constants import *"
   ]
  },
  {
   "cell_type": "code",
   "execution_count": 10,
   "metadata": {},
   "outputs": [],
   "source": [
    "#| export\n",
    "#Copyright 2024 Gerardo Guerrero\n",
    "\n",
    "class Node:\n",
    "    def __init__(self,\n",
    "                 game = uttt(),\n",
    "                 args = None,\n",
    "                 state = None,\n",
    "                 parent = None,\n",
    "                 action = None):\n",
    "        self.game = game.copy()\n",
    "        self.args = args\n",
    "        self.state = state\n",
    "        self.parent = parent\n",
    "        self.action = action\n",
    "        \n",
    "        self.children = []\n",
    "        self.visits = 0\n",
    "        self.value = 0\n",
    "\n",
    "        self.expandable_actions = self.game._get_legal_indexes()\n",
    "\n",
    "    def is_fully_expanded(self):\n",
    "        \"Returns True if the node has no expandable actions, False otherwise.\"\n",
    "        return len(self.expandable_actions) == 0\n",
    "    \n",
    "    def is_terminal(self):\n",
    "        \"Returns True if the nod terminal, False otherwise.\"\n",
    "        return self.game.is_game_over()\n",
    "    \n",
    "    def select(self):\n",
    "        \"Selects the best child node according to the UCB formula.\"\n",
    "        best_child = None\n",
    "        best_ucb = -np.inf\n",
    "\n",
    "        for child in self.children:\n",
    "            ucb = self._get_ucb(child)\n",
    "            if ucb > best_ucb:\n",
    "                best_ucb = ucb\n",
    "                best_child = child\n",
    "        \n",
    "        return best_child\n",
    "    \n",
    "    def expand(self):\n",
    "        \"Expands the node by adding a new child node.\"\n",
    "        action = np.random.choice(self.expandable_actions)\n",
    "        self.expandable_actions.remove(action)\n",
    "\n",
    "        self.game._make_move(Move(self.game.next_symbol, action))\n",
    "        next_state = self.game._get_state()\n",
    "        child = Node(self.game, self.args, next_state, self, action)\n",
    "        self.children.append(child)\n",
    "        return child\n",
    "    \n",
    "    def backpropagate(self, value):\n",
    "        \"Updates the value and visits of the node and its ancestors.\"\n",
    "        self.visits += 1\n",
    "\n",
    "        # Check if the current node is a maximizing player (X) or a minimizing player (O)\n",
    "        if self.game.next_symbol == X_STATE_VALUE:\n",
    "            # If the current player is X, use the value as is\n",
    "            self.value += value\n",
    "        else:\n",
    "            # If the current player is O, invert the value\n",
    "            self.value -= value\n",
    "\n",
    "        if self.parent is not None:\n",
    "            # Propagate the value to the parent node with inversion if necessary\n",
    "            self.parent.backpropagate(value)\n",
    "    \n",
    "    def simulate(self, player):\n",
    "        \"Simulates the game until the end.\"\n",
    "        game = self.game.copy()\n",
    "\n",
    "        while not game.is_game_over():\n",
    "            legal_moves = game._get_legal_indexes()\n",
    "            action = np.random.choice(legal_moves)\n",
    "            game._make_move(Move(game.next_symbol, action))\n",
    "\n",
    "        winner = game.result\n",
    "        if winner == player:\n",
    "            return 1\n",
    "        elif winner == DRAW_STATE_VALUE:\n",
    "            return 0\n",
    "        else:\n",
    "            return -1\n",
    "\n",
    "    def _get_ucb(self, child):\n",
    "        \"Returns the UCB value for the given child.\"\n",
    "        exploitation = 1 - ((child.value / child.visits) + 1)/2\n",
    "        exploration = np.sqrt(np.log(self.visits) / child.visits)\n",
    "        return exploitation + exploration"
   ]
  }
 ],
 "metadata": {
  "kernelspec": {
   "display_name": ".venv",
   "language": "python",
   "name": "python3"
  },
  "language_info": {
   "codemirror_mode": {
    "name": "ipython",
    "version": 3
   },
   "file_extension": ".py",
   "mimetype": "text/x-python",
   "name": "python",
   "nbconvert_exporter": "python",
   "pygments_lexer": "ipython3",
   "version": "3.10.7"
  }
 },
 "nbformat": 4,
 "nbformat_minor": 2
}
