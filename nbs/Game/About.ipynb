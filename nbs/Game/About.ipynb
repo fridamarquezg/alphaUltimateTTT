{
 "cells": [
  {
   "cell_type": "markdown",
   "metadata": {},
   "source": [
    "# About\n",
    "> This page contains the information about the Ultimate Tic Tac Toe game.\n"
   ]
  },
  {
   "cell_type": "markdown",
   "metadata": {},
   "source": [
    "\n",
    "Ultimate Tic Tac Toe is a variant of the classic game of Tic Tac Toe, with an added layer of complexity and strategy.\n",
    "\n",
    "## Objective\n",
    "The objective of Ultimate Tic Tac Toe is the same as regular Tic Tac Toe: to get three of your symbols in a row, horizontally, vertically, or diagonally, on a 3x3 grid.\n",
    "\n",
    "## Gameplay\n",
    "- Ultimate Tic Tac Toe is played on a 3x3 grid of Tic Tac Toe boards.\n",
    "- Each of the 9 cells in the grid represents a smaller Tic Tac Toe board.\n",
    "- Players take turns placing their symbols (traditionally 'X' and 'O') in any available cell within the active board.\n",
    "- The active board is determined by the opponent's previous move.\n",
    "- To win the game, a player must win three small Tic Tac Toe boards in a row.\n",
    "\n",
    "## Rules\n",
    "1. Players take turns placing their symbols ('X' or 'O') on the grid.\n",
    "2. The first player to get three of their symbols in a row on any small board wins that board.\n",
    "3. The winning player then selects a cell on the large grid corresponding to the small board they won.\n",
    "4. The next player must place their symbol in the small board corresponding to the cell the previous player selected.\n",
    "5. If a player's move sends their opponent to a small board that has already been won, the opponent can choose to play in any open small board.\n",
    "6. The game continues until one player wins three small boards in a row or the entire grid is filled without a winner.\n",
    "![](https://user-images.githubusercontent.com/16801528/38771159-2815f1ec-401e-11e8-8edb-157b58403761.gif)\n",
    "\n",
    "## Strategy\n",
    "- Players must think strategically to not only win small boards but also to strategically position themselves to win the overall game.\n",
    "- It's important to block opponents from winning small boards while also aiming to win them yourself.\n",
    "- Players should also consider the implications of their moves on the larger grid.\n",
    "\n",
    "Ultimate Tic Tac Toe adds a layer of depth and strategy to the classic game, making it an engaging and challenging experience for players of all ages.\n"
   ]
  }
 ],
 "metadata": {
  "kernelspec": {
   "display_name": "python3",
   "language": "python",
   "name": "python3"
  }
 },
 "nbformat": 4,
 "nbformat_minor": 2
}
