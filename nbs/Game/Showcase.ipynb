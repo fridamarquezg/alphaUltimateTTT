{
 "cells": [
  {
   "cell_type": "markdown",
   "metadata": {},
   "source": [
    "# Showcase\n",
    "> This a preview of how the UTTT class looks so far"
   ]
  },
  {
   "cell_type": "code",
   "execution_count": 1,
   "metadata": {},
   "outputs": [],
   "source": [
    "import alphaUltimateTTT.uttt as game"
   ]
  },
  {
   "cell_type": "markdown",
   "metadata": {},
   "source": [
    "## Game initialization"
   ]
  },
  {
   "cell_type": "code",
   "execution_count": 2,
   "metadata": {},
   "outputs": [
    {
     "name": "stdout",
     "output_type": "stream",
     "text": [
      "UltimateTicTacToe(\n",
      "  subgames:\n",
      "    1 2 3   4 5 6   7 8 9\n",
      "  1 • • • │ • • • │ • • •\n",
      "  2 • • • │ • • • │ • • •\n",
      "  3 • • • │ • • • │ • • •\n",
      "    —————————————————————\n",
      "  4 • • • │ • • • │ • • •\n",
      "  5 • • • │ • • • │ • • •\n",
      "  6 • • • │ • • • │ • • •\n",
      "    —————————————————————\n",
      "  7 • • • │ • • • │ • • •\n",
      "  8 • • • │ • • • │ • • •\n",
      "  9 • • • │ • • • │ • • •\n",
      "  next player: X\n",
      "  constraint: None\n",
      "  supergame:\n",
      "  • • •\n",
      "  • • •\n",
      "  • • •\n",
      "  result: In Game\n",
      ")\n"
     ]
    }
   ],
   "source": [
    "uttt = game.UltimateTicTacToe()\n",
    "print(uttt)"
   ]
  },
  {
   "cell_type": "markdown",
   "metadata": {},
   "source": [
    "##### At the beggining, there is no constraint on which subgame to play. But after the first move, this changes."
   ]
  },
  {
   "cell_type": "code",
   "execution_count": 3,
   "metadata": {},
   "outputs": [
    {
     "name": "stdout",
     "output_type": "stream",
     "text": [
      "UltimateTicTacToe(\n",
      "  subgames:\n",
      "    1 2 3   4 5 6   7 8 9\n",
      "  1 · · · │ · · · │ · · ·\n",
      "  2 · · · │ · · · │ · · ·\n",
      "  3 · · · │ · · · │ · · ·\n",
      "    —————————————————————\n",
      "  4 · · · │ • • • │ · · ·\n",
      "  5 · · · │ • X • │ · · ·\n",
      "  6 · · · │ • • • │ · · ·\n",
      "    —————————————————————\n",
      "  7 · · · │ · · · │ · · ·\n",
      "  8 · · · │ · · · │ · · ·\n",
      "  9 · · · │ · · · │ · · ·\n",
      "  next player: O\n",
      "  constraint: 5\n",
      "  supergame:\n",
      "  · · ·\n",
      "  · • ·\n",
      "  · · ·\n",
      "  result: In Game\n",
      ")\n"
     ]
    }
   ],
   "source": [
    "uttt.play(55)"
   ]
  },
  {
   "cell_type": "code",
   "execution_count": 4,
   "metadata": {},
   "outputs": [
    {
     "name": "stdout",
     "output_type": "stream",
     "text": [
      "UltimateTicTacToe(\n",
      "  subgames:\n",
      "    1 2 3   4 5 6   7 8 9\n",
      "  1 • • • │ · · · │ · · ·\n",
      "  2 • • • │ · · · │ · · ·\n",
      "  3 • • • │ · · · │ · · ·\n",
      "    —————————————————————\n",
      "  4 · · · │ O · · │ · · ·\n",
      "  5 · · · │ · X · │ · · ·\n",
      "  6 · · · │ · · · │ · · ·\n",
      "    —————————————————————\n",
      "  7 · · · │ · · · │ · · ·\n",
      "  8 · · · │ · · · │ · · ·\n",
      "  9 · · · │ · · · │ · · ·\n",
      "  next player: X\n",
      "  constraint: 1\n",
      "  supergame:\n",
      "  • · ·\n",
      "  · · ·\n",
      "  · · ·\n",
      "  result: In Game\n",
      ")\n"
     ]
    }
   ],
   "source": [
    "uttt.play(44)"
   ]
  },
  {
   "cell_type": "markdown",
   "metadata": {},
   "source": [
    "##### You can't play outside of the constrained subgame"
   ]
  },
  {
   "cell_type": "code",
   "execution_count": 5,
   "metadata": {},
   "outputs": [
    {
     "name": "stdout",
     "output_type": "stream",
     "text": [
      "Illegal action Move(symbol=X, index=37) - violated constraint = 0\n"
     ]
    }
   ],
   "source": [
    "try:\n",
    "    uttt.play(45)\n",
    "except Exception as e:\n",
    "    print(e)"
   ]
  },
  {
   "cell_type": "code",
   "execution_count": 6,
   "metadata": {},
   "outputs": [
    {
     "name": "stdout",
     "output_type": "stream",
     "text": [
      "UltimateTicTacToe(\n",
      "  subgames:\n",
      "    1 2 3   4 5 6   7 8 9\n",
      "  1 · · · │ · · · │ · · ·\n",
      "  2 · X · │ · · · │ · · ·\n",
      "  3 · · · │ · · · │ · · ·\n",
      "    —————————————————————\n",
      "  4 · · · │ O • • │ · · ·\n",
      "  5 · · · │ • X • │ · · ·\n",
      "  6 · · · │ • • • │ · · ·\n",
      "    —————————————————————\n",
      "  7 · · · │ · · · │ · · ·\n",
      "  8 · · · │ · · · │ · · ·\n",
      "  9 · · · │ · · · │ · · ·\n",
      "  next player: O\n",
      "  constraint: 5\n",
      "  supergame:\n",
      "  · · ·\n",
      "  · • ·\n",
      "  · · ·\n",
      "  result: In Game\n",
      ")\n"
     ]
    }
   ],
   "source": [
    "uttt.play(22)"
   ]
  },
  {
   "cell_type": "markdown",
   "metadata": {},
   "source": [
    "##### You can't play on a square already played:"
   ]
  },
  {
   "cell_type": "code",
   "execution_count": 7,
   "metadata": {},
   "outputs": [
    {
     "name": "stdout",
     "output_type": "stream",
     "text": [
      "Illegal action Move(symbol=O, index=36) - index already taken\n"
     ]
    }
   ],
   "source": [
    "try:\n",
    "    uttt.play(44)\n",
    "except Exception as e:\n",
    "    print(e)"
   ]
  },
  {
   "cell_type": "markdown",
   "metadata": {},
   "source": [
    "##### The game is completely determined by its state"
   ]
  },
  {
   "cell_type": "code",
   "execution_count": 8,
   "metadata": {},
   "outputs": [
    {
     "name": "stdout",
     "output_type": "stream",
     "text": [
      "UltimateTicTacToe(\n",
      "  subgames:\n",
      "    1 2 3   4 5 6   7 8 9\n",
      "  1 · · · │ · · · │ · · ·\n",
      "  2 · · · │ O · · │ O O ·\n",
      "  3 · · · │ · · · │ · · ·\n",
      "    —————————————————————\n",
      "  4 · · X │ · · X │ • • •\n",
      "  5 · X · │ · X O │ • X O\n",
      "  6 X · · │ X · O │ X • •\n",
      "    —————————————————————\n",
      "  7 · · · │ · · · │ · · ·\n",
      "  8 O O O │ X · · │ · X ·\n",
      "  9 · · · │ · O · │ · · ·\n",
      "  next player: X\n",
      "  constraint: 6\n",
      "  supergame:\n",
      "  · · ·\n",
      "  X X •\n",
      "  O · ·\n",
      "  result: In Game\n",
      ")\n"
     ]
    }
   ],
   "source": [
    "state = [0, 0, 0, 0, 0, 0, 0, 0, 0, 0, 0, 0, 2, 0, 0, 0, 0, 0, 0, 0, 0, 2, 2, 0, 0, 0, 0, 0, 0, 1, 0, 1, 0, 1, 0, 0, 0, 0, 1, 0, 1, 2, 1, 0, 2, 0, 0, 0, 0, 1, 2, 1, 0, 0, 0, 0, 0, 2, 2, 2, 0, 0, 0, 0, 0, 0, 1, 0, 0, 0, 2, 0, 0, 0, 0, 0, 1, 0, 0, 0, 0, 0, 0, 0, 1, 1, 0, 2, 0, 0, 1, 5, 0]\n",
    "uttt = game.UltimateTicTacToe(state=state)\n",
    "print(uttt)"
   ]
  },
  {
   "cell_type": "code",
   "execution_count": 10,
   "metadata": {},
   "outputs": [
    {
     "name": "stdout",
     "output_type": "stream",
     "text": [
      "UltimateTicTacToe(\n",
      "  subgames:\n",
      "    1 2 3   4 5 6   7 8 9\n",
      "  1 · · · │ · · · │ • • •\n",
      "  2 · · · │ O · · │ O O •\n",
      "  3 · · · │ · · · │ • • •\n",
      "    —————————————————————\n",
      "  4 · · X │ · · X │ · · O\n",
      "  5 · X · │ · X O │ X X O\n",
      "  6 X · · │ X · O │ X · ·\n",
      "    —————————————————————\n",
      "  7 · · · │ · · · │ · · ·\n",
      "  8 O O O │ X · · │ · X ·\n",
      "  9 · · · │ · O · │ · · ·\n",
      "  next player: X\n",
      "  constraint: 3\n",
      "  supergame:\n",
      "  · · •\n",
      "  X X ·\n",
      "  O · ·\n",
      "  result: In Game\n",
      ")\n"
     ]
    }
   ],
   "source": [
    "uttt.play(49)"
   ]
  },
  {
   "cell_type": "markdown",
   "metadata": {},
   "source": [
    "##### The only available squares are those from subgames still on game"
   ]
  },
  {
   "cell_type": "code",
   "execution_count": 11,
   "metadata": {},
   "outputs": [
    {
     "name": "stdout",
     "output_type": "stream",
     "text": [
      "UltimateTicTacToe(\n",
      "  subgames:\n",
      "    1 2 3   4 5 6   7 8 9\n",
      "  1 · · · │ · · · │ · · ·\n",
      "  2 · · · │ O · · │ O O X\n",
      "  3 · · · │ · · · │ · · ·\n",
      "    —————————————————————\n",
      "  4 · · X │ · · X │ • • O\n",
      "  5 · X · │ · X O │ X X O\n",
      "  6 X · · │ X · O │ X • •\n",
      "    —————————————————————\n",
      "  7 · · · │ · · · │ · · ·\n",
      "  8 O O O │ X · · │ · X ·\n",
      "  9 · · · │ · O · │ · · ·\n",
      "  next player: O\n",
      "  constraint: 6\n",
      "  supergame:\n",
      "  · · ·\n",
      "  X X •\n",
      "  O · ·\n",
      "  result: In Game\n",
      ")\n"
     ]
    }
   ],
   "source": [
    "uttt.play(29)"
   ]
  },
  {
   "cell_type": "markdown",
   "metadata": {},
   "source": [
    "## Problems to be solved"
   ]
  }
 ],
 "metadata": {
  "kernelspec": {
   "display_name": "python3",
   "language": "python",
   "name": "python3"
  }
 },
 "nbformat": 4,
 "nbformat_minor": 2
}
