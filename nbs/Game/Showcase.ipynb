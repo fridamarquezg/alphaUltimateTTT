{
 "cells": [
  {
   "cell_type": "markdown",
   "metadata": {},
   "source": [
    "# Showcase\n",
    "> This a preview of how the UTTT class looks so far"
   ]
  },
  {
   "cell_type": "code",
   "execution_count": null,
   "metadata": {},
   "outputs": [],
   "source": [
    "import alphaUltimateTTT.uttt as game"
   ]
  },
  {
   "cell_type": "code",
   "execution_count": null,
   "metadata": {},
   "outputs": [
    {
     "name": "stdout",
     "output_type": "stream",
     "text": [
      "UltimateTicTacToe(\n",
      "  subgames:\n",
      "    0 1 2   3 4 5   6 7 8\n",
      "  0 • • • │ • • • │ • • •\n",
      "  1 • • • │ • • • │ • • •\n",
      "  2 • • • │ • • • │ • • •\n",
      "    —————————————————————\n",
      "  3 • • • │ • • • │ • • •\n",
      "  4 • • • │ • • • │ • • •\n",
      "  5 • • • │ • • • │ • • •\n",
      "    —————————————————————\n",
      "  6 • • • │ • • • │ • • •\n",
      "  7 • • • │ • • • │ • • •\n",
      "  8 • • • │ • • • │ • • •\n",
      "  next_symbol: X\n",
      "  constraint: None\n",
      "  supergame:\n",
      "  • • •\n",
      "  • • •\n",
      "  • • •\n",
      "  result: None\n",
      ")\n"
     ]
    }
   ],
   "source": [
    "uttt = game.UltimateTicTacToe()\n",
    "print(uttt)"
   ]
  },
  {
   "cell_type": "code",
   "execution_count": null,
   "metadata": {},
   "outputs": [],
   "source": []
  }
 ],
 "metadata": {
  "kernelspec": {
   "display_name": "python3",
   "language": "python",
   "name": "python3"
  }
 },
 "nbformat": 4,
 "nbformat_minor": 2
}
