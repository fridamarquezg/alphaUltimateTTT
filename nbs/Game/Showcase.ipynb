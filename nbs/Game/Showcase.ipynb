{
 "cells": [
  {
   "cell_type": "markdown",
   "metadata": {},
   "source": [
    "# Showcase\n",
    "> This a preview of how the UTTT class looks so far"
   ]
  },
  {
   "cell_type": "code",
   "execution_count": null,
   "metadata": {},
   "outputs": [],
   "source": [
    "import alphaUltimateTTT.uttt as game"
   ]
  },
  {
   "cell_type": "code",
   "execution_count": null,
   "metadata": {},
   "outputs": [
    {
     "name": "stdout",
     "output_type": "stream",
     "text": [
      "UltimateTicTacToe(\n",
      "  subgames:\n",
      "    1 2 3   4 5 6   7 8 9\n",
      "  1 · · · │ · · · │ · · ·\n",
      "  2 · · · │ O · · │ O O ·\n",
      "  3 · · · │ · · · │ · · ·\n",
      "    —————————————————————\n",
      "  4 · · X │ · · X │ • • •\n",
      "  5 · X · │ · X O │ • X O\n",
      "  6 X · · │ X · O │ X • •\n",
      "    —————————————————————\n",
      "  7 · · · │ · · · │ · · ·\n",
      "  8 O O O │ X · · │ · X ·\n",
      "  9 · · · │ · O · │ · · ·\n",
      "  next player: X\n",
      "  constraint: 6\n",
      "  supergame:\n",
      "  · · ·\n",
      "  X X •\n",
      "  O · ·\n",
      "  result: In Game\n",
      ")\n"
     ]
    }
   ],
   "source": [
    "state = [0, 0, 0, 0, 0, 0, 0, 0, 0, 0, 0, 0, 2, 0, 0, 0, 0, 0, 0, 0, 0, 2, 2, 0, 0, 0, 0, 0, 0, 1, 0, 1, 0, 1, 0, 0, 0, 0, 1, 0, 1, 2, 1, 0, 2, 0, 0, 0, 0, 1, 2, 1, 0, 0, 0, 0, 0, 2, 2, 2, 0, 0, 0, 0, 0, 0, 1, 0, 0, 0, 2, 0, 0, 0, 0, 0, 1, 0, 0, 0, 0, 0, 0, 0, 1, 1, 0, 2, 0, 0, 1, 5, 0]\n",
    "uttt = game.UltimateTicTacToe(state=state)\n",
    "print(uttt)"
   ]
  },
  {
   "cell_type": "code",
   "execution_count": null,
   "metadata": {},
   "outputs": [
    {
     "name": "stdout",
     "output_type": "stream",
     "text": [
      "The game is over\n",
      "X is the winner\n",
      "UltimateTicTacToe(\n",
      "  subgames:\n",
      "    1 2 3   4 5 6   7 8 9\n",
      "  1 · · · │ · · · │ · · ·\n",
      "  2 · · · │ O · · │ O O ·\n",
      "  3 · · · │ · · · │ · · ·\n",
      "    —————————————————————\n",
      "  4 · · X │ · · X │ · · X\n",
      "  5 · X · │ · X O │ · X O\n",
      "  6 X · · │ X · O │ X · ·\n",
      "    —————————————————————\n",
      "  7 · · · │ · · · │ · · ·\n",
      "  8 O O O │ X · · │ · X ·\n",
      "  9 · · · │ · O · │ · · ·\n",
      "  supergame:\n",
      "  · · ·\n",
      "  X X X\n",
      "  O · ·\n",
      "  result: X won\n",
      ")\n"
     ]
    }
   ],
   "source": [
    "uttt.play(49)"
   ]
  }
 ],
 "metadata": {
  "kernelspec": {
   "display_name": "python3",
   "language": "python",
   "name": "python3"
  }
 },
 "nbformat": 4,
 "nbformat_minor": 2
}
