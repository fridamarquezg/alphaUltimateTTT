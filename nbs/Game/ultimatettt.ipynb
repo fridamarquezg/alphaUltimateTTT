{
 "cells": [
  {
   "cell_type": "markdown",
   "metadata": {},
   "source": [
    "# Ultimate Tic Tac Toe\n",
    "> This is the module for the UTTT object"
   ]
  },
  {
   "cell_type": "code",
   "execution_count": null,
   "metadata": {},
   "outputs": [],
   "source": [
    "#| default_exp uttt"
   ]
  },
  {
   "cell_type": "code",
   "execution_count": null,
   "metadata": {},
   "outputs": [],
   "source": [
    "#| hide\n",
    "from nbdev.showdoc import *"
   ]
  },
  {
   "cell_type": "markdown",
   "metadata": {},
   "source": [
    "### Constants"
   ]
  },
  {
   "cell_type": "code",
   "execution_count": null,
   "metadata": {},
   "outputs": [],
   "source": [
    "#| export\n",
    "\n",
    "#0-80 squares, 81-89 result of each subgame, 90 next symbol, 91 subgame constraint, 92 result of uttt\n",
    "SIZE = 93 \n",
    "NEXT_SYMBOL_INDEX = 90\n",
    "CONSTRAINT_INDEX = 91\n",
    "RESULT_INDEX = 92\n",
    "\n",
    "X_STATE_VALUE = 1\n",
    "O_STATE_VALUE = 2\n",
    "DRAW_STATE_VALUE = 3\n",
    "UNCONSTRAINED_STATE_VALUE = 9"
   ]
  },
  {
   "cell_type": "code",
   "execution_count": null,
   "metadata": {},
   "outputs": [],
   "source": [
    "#| export\n",
    "class Action:\n",
    "    def __init__(self,\n",
    "                symbol: int, # X_STATE_VALUE = 1 or O_STATE_VALUE = 2\n",
    "                index: int): # int from 0 to 80\n",
    "        '''An action contains the symbol (represented as an int) and the index (int from 0 to 80) where the symbol will be placed.'''\n",
    "        self.symbol = symbol  # X_STATE_VALUE or O_STATE_VALUE\n",
    "        self.index = index  # int from 0 to 80\n",
    "\n",
    "    def is_symbol_X(self) -> bool:\n",
    "        return self.symbol == X_STATE_VALUE\n",
    "\n",
    "    def is_symbol_O(self) -> bool:\n",
    "        return self.symbol == O_STATE_VALUE\n",
    "\n",
    "    def __str__(self):\n",
    "        output = '{cls}(symbol={symbol}, index={index})'\n",
    "        output = output.format(\n",
    "            cls=self.__class__.__name__,\n",
    "            symbol={X_STATE_VALUE: 'X', O_STATE_VALUE: 'O'}[self.symbol],\n",
    "            index=self.index,\n",
    "        )\n",
    "        return output"
   ]
  },
  {
   "cell_type": "code",
   "execution_count": null,
   "metadata": {},
   "outputs": [],
   "source": [
    "#| export\n",
    "\n",
    "class UltimateTicTacToe:\n",
    "    def __init__(self,\n",
    "                state:bytearray = None): #If no state is given, it generates a new one. \n",
    "        '''The state is a bytearray of 93 elements. \n",
    "        The first 81 elements are the state of each square, 0 for empty, 1 for X and -1 for O. \\n\n",
    "        The next 9 elements are the result of each subgame, 0 for draw, 1 for X and -1 for O.\\n \n",
    "        The next element is the next symbol to play, 1 for X and 2 for O.\\n \n",
    "        The next element is the index of the subgame that is constrained, 9 for no subgame constrained. \\n\n",
    "        The last element is the result of the UTTT, 0 while being played, 3 for draw, 2 for O and 1 for X.'''\n",
    "        if state:\n",
    "            self.state = state\n",
    "        else:\n",
    "            self.state = bytearray(SIZE) #generates the array\n",
    "            self.state[NEXT_SYMBOL_INDEX] = X_STATE_VALUE #X always starts the game\n",
    "            self.state[CONSTRAINT_INDEX] = UNCONSTRAINED_STATE_VALUE #no subgame is constrained at the beginning\n",
    "   \n",
    "\n",
    "    def is_game_over(self) -> bool:\n",
    "        '''Returns True if the game is over, False otherwise.'''\n",
    "        return bool(self.state[RESULT_INDEX])\n",
    "    \n",
    "    def is_next_symbol_X(self) -> bool:\n",
    "        '''Returns True if the next symbol to play is X, False otherwise.'''\n",
    "        return self.state[NEXT_SYMBOL_INDEX] == X_STATE_VALUE\n",
    "    \n",
    "    def is_next_symbol_O(self) -> bool:\n",
    "        '''Returns True if the next symbol to play is O, False otherwise.'''\n",
    "        return self.state[NEXT_SYMBOL_INDEX] == O_STATE_VALUE\n",
    "    \n",
    "    def is_constrained(self) -> bool:\n",
    "        '''Returns True if a subgame is constrained, False otherwise.'''\n",
    "        return self.state[CONSTRAINT_INDEX] != UNCONSTRAINED_STATE_VALUE\n",
    "    \n",
    "    \n",
    "    def _verify_action(self, action: Action):\n",
    "        illegal_action = f\"Illegal action {action} - \"\n",
    "        if self.is_next_symbol_X() and not action.is_symbol_X():\n",
    "            raise utttError(illegal_action + \"next move belongs to X\")\n",
    "        if self.is_next_symbol_O() and not action.is_symbol_O():\n",
    "            raise utttError(illegal_action + \"next move belongs to O\")\n",
    "        if not (0 <= action.index < 81):\n",
    "            raise utttError(illegal_action + \"index outside the valid range\")\n",
    "        if self.is_constrained() and self.constraint != action.index // 9:\n",
    "            raise utttError(illegal_action + f\"violated constraint={self.constraint}\")\n",
    "        if self.state[81 + action.index // 9]:\n",
    "            raise utttError(illegal_action + \"index from terminated subgame\")\n",
    "        if self.state[action.index]:\n",
    "            raise utttError(illegal_action + \"index is already taken\")\n",
    "\n",
    "    def make_move(self,\n",
    "                action: Action, #Receives an action and updates the state of the game.\n",
    "                verify: bool = True): #A boolean to verify if the move is valid.\n",
    "        '''Makes a move in the game.'''\n",
    "        if verify:\n",
    "            if self.is_game_over():\n",
    "                raise utttError('The game is over')\n",
    "            self._verify_action(action)\n",
    "            "
   ]
  },
  {
   "cell_type": "code",
   "execution_count": null,
   "metadata": {},
   "outputs": [
    {
     "data": {
      "text/markdown": [
       "---\n",
       "\n",
       "### uttt.make_move\n",
       "\n",
       ">      uttt.make_move (action:__main__.Action)\n",
       "\n",
       "Makes a move in the game.\n",
       "\n",
       "|    | **Type** | **Details** |\n",
       "| -- | -------- | ----------- |\n",
       "| action | Action | Receives an action and updates the state of the game. |"
      ],
      "text/plain": [
       "---\n",
       "\n",
       "### uttt.make_move\n",
       "\n",
       ">      uttt.make_move (action:__main__.Action)\n",
       "\n",
       "Makes a move in the game.\n",
       "\n",
       "|    | **Type** | **Details** |\n",
       "| -- | -------- | ----------- |\n",
       "| action | Action | Receives an action and updates the state of the game. |"
      ]
     },
     "execution_count": null,
     "metadata": {},
     "output_type": "execute_result"
    }
   ],
   "source": [
    "show_doc(UltimateTicTacToe.make_move,name = 'uttt.make_move')"
   ]
  },
  {
   "cell_type": "code",
   "execution_count": null,
   "metadata": {},
   "outputs": [],
   "source": [
    "#| export\n",
    "class utttError(Exception):\n",
    "    pass"
   ]
  }
 ],
 "metadata": {
  "kernelspec": {
   "display_name": "python3",
   "language": "python",
   "name": "python3"
  }
 },
 "nbformat": 4,
 "nbformat_minor": 2
}
