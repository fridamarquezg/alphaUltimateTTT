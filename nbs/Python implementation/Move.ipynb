{
 "cells": [
  {
   "cell_type": "markdown",
   "metadata": {},
   "source": [
    "# Move\n",
    "> This is the class of the Move object"
   ]
  },
  {
   "cell_type": "code",
   "execution_count": null,
   "metadata": {},
   "outputs": [],
   "source": [
    "#|default_exp Move"
   ]
  },
  {
   "cell_type": "code",
   "execution_count": null,
   "metadata": {},
   "outputs": [],
   "source": [
    "#| hide\n",
    "from nbdev.showdoc import *"
   ]
  },
  {
   "cell_type": "code",
   "execution_count": null,
   "metadata": {},
   "outputs": [],
   "source": [
    "#| export\n",
    "from alphaUltimateTTT.constants import X_STATE_VALUE, O_STATE_VALUE\n",
    "\n",
    "class Move:\n",
    "    def __init__(self,\n",
    "                symbol: int, # X_STATE_VALUE = 1 or O_STATE_VALUE = 2\n",
    "                index: int): # int from 0 to 80\n",
    "        '''A move contains the symbol (represented as an int) and the index (int from 0 to 80) where the symbol will be placed.'''\n",
    "        self.symbol = symbol  # X_STATE_VALUE or O_STATE_VALUE\n",
    "        self.index = index  # int from 0 to 80\n",
    "\n",
    "    def __str__(self):\n",
    "        output = '{cls}(symbol={symbol}, index={index})'\n",
    "        output = output.format(\n",
    "            cls='Move',\n",
    "            symbol={X_STATE_VALUE: 'X', O_STATE_VALUE: 'O'}[self.symbol],\n",
    "            index=self.index,\n",
    "        )\n",
    "        return output"
   ]
  },
  {
   "cell_type": "code",
   "execution_count": null,
   "metadata": {},
   "outputs": [
    {
     "name": "stdout",
     "output_type": "stream",
     "text": [
      "Move(symbol=X, index=55)\n"
     ]
    }
   ],
   "source": [
    "# | hide_input\n",
    "move = Move(1, 55)\n",
    "print(move)"
   ]
  }
 ],
 "metadata": {
  "kernelspec": {
   "display_name": "python3",
   "language": "python",
   "name": "python3"
  }
 },
 "nbformat": 4,
 "nbformat_minor": 2
}
