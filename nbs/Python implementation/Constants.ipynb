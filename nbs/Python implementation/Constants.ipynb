{
 "cells": [
  {
   "cell_type": "markdown",
   "metadata": {},
   "source": [
    "# Constants\n",
    "> Important constants that will be used along the whole implementation"
   ]
  },
  {
   "cell_type": "code",
   "execution_count": null,
   "metadata": {},
   "outputs": [],
   "source": [
    "#|default_exp constants"
   ]
  },
  {
   "cell_type": "code",
   "execution_count": null,
   "metadata": {},
   "outputs": [],
   "source": [
    "#| hide\n",
    "from nbdev.showdoc import *"
   ]
  },
  {
   "cell_type": "code",
   "execution_count": null,
   "metadata": {},
   "outputs": [],
   "source": [
    "# | export\n",
    "#Copyright 2024 Gerardo Guerrero\n",
    "\n",
    "\n",
    "#0-80 squares, 81-89 result of each subgame, 90 next symbol, 91 subgame constraint, 92 result of uttt\n",
    "SIZE = 93 \n",
    "NEXT_SYMBOL_INDEX = 90\n",
    "CONSTRAINT_INDEX = 91\n",
    "RESULT_INDEX = 92\n",
    "\n",
    "X_STATE_VALUE = 1\n",
    "O_STATE_VALUE = 2\n",
    "DRAW_STATE_VALUE = 3\n",
    "UNCONSTRAINED_STATE_VALUE = 9\n",
    "MAPPING ={\n",
    "#First subgame\n",
    "(1,1): 0, (1,2): 1, (1,3): 2, \n",
    "(2,1):3, (2,2): 4, (2,3): 5,\n",
    "(3,1):6, (3,2):7, (3,3):8, \n",
    "\n",
    "#Second subgame\n",
    "(1,4):9, (1,5):10, (1,6):11, \n",
    "(2,4):12, (2,5):13, (2,6):14,\n",
    "(3,4):15, (3,5):16, (3,6):17,\n",
    "\n",
    "#Third subgame\n",
    "(1,7):18, (1,8):19, (1,9):20, \n",
    "(2,7):21, (2,8):22, (2,9):23,\n",
    "(3,7):24, (3,8):25, (3,9):26,\n",
    "\n",
    "#Fourth subgame\n",
    "(4,1):27, (4,2):28, (4,3):29, \n",
    "(5,1):30, (5,2):31, (5,3):32,\n",
    "(6,1):33, (6,2):34, (6,3):35,\n",
    "\n",
    "#Fifth subgame\n",
    "(4,4):36, (4,5):37, (4,6):38, \n",
    "(5,4):39, (5,5):40, (5,6):41,\n",
    "(6,4):42, (6,5):43, (6,6):44,\n",
    "\n",
    "#Sixth subgame\n",
    "(4,7):45, (4,8):46, (4,9):47, \n",
    "(5,7):48, (5,8):49, (5,9):50,\n",
    "(6,7):51, (6,8):52, (6,9):53,\n",
    "\n",
    "#Seventh subgame\n",
    "(7,1):54, (7,2):55, (7,3):56, \n",
    "(8,1):57, (8,2):58, (8,3):59,\n",
    "(9,1):60, (9,2):61, (9,3):62,\n",
    "\n",
    "#Eighth subgame\n",
    "(7,4):63, (7,5):64, (7,6):65, \n",
    "(8,4):66, (8,5):67, (8,6):68,\n",
    "(9,4):69, (9,5):70, (9,6):71,\n",
    "\n",
    "#Ninth subgame\n",
    "(7,7):72, (7,8):73, (7,9):74, \n",
    "(8,7):75, (8,8):76, (8,9):77,\n",
    "(9,7):78, (9,8):79, (9,9):80,\n",
    "}\n"
   ]
  },
  {
   "cell_type": "markdown",
   "metadata": {},
   "source": [
    "##### 0-80 squares, 81-89 result of each subgame, 90 next symbol, 91 subgame constraint, 92 result of uttt\n"
   ]
  },
  {
   "cell_type": "code",
   "execution_count": null,
   "metadata": {},
   "outputs": [],
   "source": [
    "SIZE = 93\n",
    "NEXT_SYMBOL_INDEX = 90\n",
    "CONSTRAINT_INDEX = 91\n",
    "RESULT_INDEX = 92\n"
   ]
  },
  {
   "cell_type": "markdown",
   "metadata": {},
   "source": [
    "##### 1 is associated to X, 2 to O and 3 to draw. Unconstrained state is 9."
   ]
  },
  {
   "cell_type": "code",
   "execution_count": null,
   "metadata": {},
   "outputs": [],
   "source": [
    "\n",
    "X_STATE_VALUE = 1\n",
    "O_STATE_VALUE = 2\n",
    "DRAW_STATE_VALUE = 3\n",
    "UNCONSTRAINED_STATE_VALUE = 9\n"
   ]
  },
  {
   "cell_type": "markdown",
   "metadata": {},
   "source": [
    "##### Mapping from matrix index to array index."
   ]
  },
  {
   "cell_type": "code",
   "execution_count": null,
   "metadata": {},
   "outputs": [],
   "source": [
    "MAPPING ={\n",
    "#First subgame\n",
    "(1,1): 0, (1,2): 1, (1,3): 2, \n",
    "(2,1):3, (2,2): 4, (2,3): 5,\n",
    "(3,1):6, (3,2):7, (3,3):8, \n",
    "\n",
    "#Second subgame\n",
    "(1,4):9, (1,5):10, (1,6):11, \n",
    "(2,4):12, (2,5):13, (2,6):14,\n",
    "(3,4):15, (3,5):16, (3,6):17,\n",
    "\n",
    "#Third subgame\n",
    "(1,7):18, (1,8):19, (1,9):20, \n",
    "(2,7):21, (2,8):22, (2,9):23,\n",
    "(3,7):24, (3,8):25, (3,9):26,\n",
    "\n",
    "#Fourth subgame\n",
    "(4,1):27, (4,2):28, (4,3):29, \n",
    "(5,1):30, (5,2):31, (5,3):32,\n",
    "(6,1):33, (6,2):34, (6,3):35,\n",
    "\n",
    "#Fifth subgame\n",
    "(4,4):36, (4,5):37, (4,6):38, \n",
    "(5,4):39, (5,5):40, (5,6):41,\n",
    "(6,4):42, (6,5):43, (6,6):44,\n",
    "\n",
    "#Sixth subgame\n",
    "(4,7):45, (4,8):46, (4,9):47, \n",
    "(5,7):48, (5,8):49, (5,9):50,\n",
    "(6,7):51, (6,8):52, (6,9):53,\n",
    "\n",
    "#Seventh subgame\n",
    "(7,1):54, (7,2):55, (7,3):56, \n",
    "(8,1):57, (8,2):58, (8,3):59,\n",
    "(9,1):60, (9,2):61, (9,3):62,\n",
    "\n",
    "#Eighth subgame\n",
    "(7,4):63, (7,5):64, (7,6):65, \n",
    "(8,4):66, (8,5):67, (8,6):68,\n",
    "(9,4):69, (9,5):70, (9,6):71,\n",
    "\n",
    "#Ninth subgame\n",
    "(7,7):72, (7,8):73, (7,9):74, \n",
    "(8,7):75, (8,8):76, (8,9):77,\n",
    "(9,7):78, (9,8):79, (9,9):80,\n",
    "}\n"
   ]
  }
 ],
 "metadata": {
  "kernelspec": {
   "display_name": "python3",
   "language": "python",
   "name": "python3"
  }
 },
 "nbformat": 4,
 "nbformat_minor": 2
}
